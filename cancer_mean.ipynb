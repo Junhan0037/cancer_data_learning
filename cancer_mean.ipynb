{
 "cells": [
  {
   "cell_type": "code",
   "execution_count": 2,
   "outputs": [
    {
     "name": "stdout",
     "text": [
      "X_train 크기 : (426, 9)\ny_train 크기 : (426,)\nX_test 크기 : (143, 9)\ny_test 크기 : (143,)\n테스트 세츠 예측 :  [0 0 0 1 0 0 0 0 0 0 0 0 0 1 0 0 0 1 1 1 0 1 0 0 1 0 0 1 0 1 0 1 0 1 0 0 0\n 1 0 1 1 0 1 0 0 1 0 1 0 0 1 0 1 0 0 0 0 0 0 1 0 1 0 0 1 0 1 1 1 0 0 1 0 0\n 1 0 0 0 0 0 1 1 1 0 1 0 0 0 1 1 0 1 0 1 0 0 1 0 0 0 0 0 0 1 1 0 1 0 1 1 0\n 1 1 0 0 0 1 0 0 0 0 0 0 0 1 0 0 0 0 0 1 0 0 0 0 0 0 1 1 0 0 0 1]\n테스트 세트 정확도 : 0.90\n"
     ],
     "output_type": "stream"
    },
    {
     "data": {
      "text/plain": "<matplotlib.legend.Legend at 0x204c50a5808>"
     },
     "metadata": {},
     "output_type": "execute_result",
     "execution_count": 2
    },
    {
     "data": {
      "text/plain": "<Figure size 432x288 with 1 Axes>",
      "image/png": "[encoded data removed]"
     },
     "metadata": {
      "needs_background": "light"
     },
     "output_type": "display_data"
    }
   ],
   "source": [
    "%matplotlib inline\n",
    "\n",
    "import pandas as pd\n",
    "from sklearn.model_selection import train_test_split\n",
    "from sklearn.neighbors import KNeighborsClassifier\n",
    "import matplotlib.pyplot as plt\n",
    "import mglearn\n",
    "import seaborn\n",
    "plt.rc('font', family='NanumGothic') # For Windows\n",
    "#암 데이터 csv 파일 읽어오기 .. 데이터프레임 형식\n",
    "cancer_dataset = pd.read_csv('wdbc_mean.csv')\n",
    "\n",
    "X, y = cancer_dataset.iloc[:,1:], cancer_dataset.iloc[:,0]\n",
    "\n",
    "#데이터 셋을 훈련 셋과 테스트 셋으로 분리시킨다.\n",
    "X_train, X_test, y_train, y_test = train_test_split(cancer_dataset.iloc[:,1:],cancer_dataset.iloc[:,0],random_state=0)\n",
    "\n",
    "print(\"X_train 크기 : {}\".format(X_train.shape))\n",
    "print(\"y_train 크기 : {}\".format(y_train.shape))\n",
    "\n",
    "print(\"X_test 크기 : {}\".format(X_test.shape))\n",
    "print(\"y_test 크기 : {}\".format(y_test.shape))\n",
    "\n",
    "#데이터 확인 그래프 그리기\n",
    "# test_cancer_dataset = pd.DataFrame(X_train, columns=cancer_dataset.iloc[:,1:].columns)\n",
    "# \n",
    "# pd.plotting.scatter_matrix(test_cancer_dataset, c = y_train, figsize=(15,15), marker='o')\n",
    "\n",
    "#이웃알고리즘 갯수를 적는다.\n",
    "knn = KNeighborsClassifier(n_neighbors=3)\n",
    "\n",
    "knn.fit(X_train,y_train)\n",
    "\n",
    "print(\"테스트 세츠 예측 : \",knn.predict(X_test))\n",
    "print(\"테스트 세트 정확도 : {:.2f}\".format(knn.score(X_test,y_test)))\n",
    "\n",
    "# fig,axes = plt.subplots(1,3, figsize=(10,3))\n",
    "\n",
    "# for n_neigbors, ax in zip([1,3,7,9,11], axes):\n",
    "#     #fit 메소드는 self 오브젝트 리턴 \n",
    "#     knn = KNeighborsClassifier(n_neighbors=n_neigbors).fit(X,y)\n",
    "#     mglearn.plots.plot_2d_separator(knn,X, fill= True, eps=0.5, ax=ax, alpha=4)\n",
    "#     mglearn.discrete_scatter(X[:,0], X[:,1], y, ax=ax)\n",
    "#     ax.set_title(\"{} 이웃\".format(n_neigbors))\n",
    "#     ax.set_xlabel(\"특성 0\")\n",
    "#     ax.set_ylabel(\"특성 1\")\n",
    "# \n",
    "# axes[0].legend(loc=3)\n",
    "\n",
    "neighbors_settings = range(1,11)\n",
    "train_accuracy = []\n",
    "test_accuracy = []\n",
    "\n",
    "for n_neighbors in neighbors_settings:\n",
    "    #모델 생성\n",
    "    clf = KNeighborsClassifier(n_neighbors=n_neighbors)\n",
    "    clf.fit(X_train,y_train)\n",
    "    \n",
    "    #훈련 세트 정확도 저장\n",
    "    train_accuracy.append(clf.score(X_train,y_train))\n",
    "    \n",
    "    #일반화 정확도 저장\n",
    "    test_accuracy.append(clf.score(X_test,y_test))\n",
    "    \n",
    "plt.plot(neighbors_settings, train_accuracy, label = \"훈련 정확도\")\n",
    "plt.plot(neighbors_settings, test_accuracy, label= \"테스트 정확도\")\n",
    "plt.ylabel(\"정확도\")\n",
    "plt.xlabel(\"n_neighbors\")\n",
    "plt.legend()"
   ],
   "metadata": {
    "collapsed": false,
    "pycharm": {
     "name": "#%%\n",
     "is_executing": false
    }
   }
  }
 ],
 "metadata": {
  "kernelspec": {
   "display_name": "Python 3",
   "language": "python",
   "name": "python3"
  },
  "language_info": {
   "codemirror_mode": {
    "name": "ipython",
    "version": 2
   },
   "file_extension": ".py",
   "mimetype": "text/x-python",
   "name": "python",
   "nbconvert_exporter": "python",
   "pygments_lexer": "ipython2",
   "version": "2.7.6"
  },
  "pycharm": {
   "stem_cell": {
    "cell_type": "raw",
    "source": [],
    "metadata": {
     "collapsed": false
    }
   }
  }
 },
 "nbformat": 4,
 "nbformat_minor": 0
}
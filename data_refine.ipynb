{
 "cells": [
  {
   "cell_type": "code",
   "execution_count": 25,
   "metadata": {
    "collapsed": true,
    "pycharm": {
     "is_executing": false
    }
   },
   "outputs": [],
   "source": [
    "\"\"\"\n",
    "1번째 실행 파일\n",
    "\n",
    "유방암 데이터를 우리에게 필요하게 맞추어 준다.\n",
    "\n",
    "제작자 : 이동현\n",
    "\"\"\"\n",
    "\n",
    "import pandas as pd\n",
    "\n",
    "df = pd.read_csv('wdbc.csv', header = None)\n",
    "header = [\"id\",\"diagnosis\",\"radius_mean\",\"texture_mean\",\"perimeter_mean\",\"area_mean\",\n",
    "          \"smoothness_mean\",\"compactness_mean\",\"concavity_mean\",\"points_mean\",\"symmetry_mean\",\n",
    "          \"dimension_mean\",\"radius_se\",\"texture_se\",\"perimeter_se\",\"area_se\",\"smoothness_se\",\n",
    "          \"compactness_se\",\"concavity_se\",\"points_se\",\"symmetry_se\",\"dimension_se\",\n",
    "          \"radius-worst\",\"texture_worst\",\"perimeter_worst\",\"area_worst\",\"smoothness_worst\",\n",
    "          \"compactness_worst\",\"concavity_worst\",\"points_worst\",\"symmetry_worst\",\"dimension_worst\"]\n",
    "\n",
    "df.columns = header\n",
    "\n",
    "#header 추가 한거\n",
    "df.to_csv('wdbc_header.csv',index= False)\n",
    "\n",
    "df = df.iloc[:,1:]\n",
    "\n",
    "#악성을 1로 양성을 0으로 바꾼 데이터\n",
    "i = 0\n",
    "for diagnosis in df['diagnosis']:\n",
    "    if diagnosis == \"M\":\n",
    "        df.iloc[i,0] = 1\n",
    "    else:\n",
    "        df.iloc[i,0] = 0\n",
    "    \n",
    "    i = i + 1\n",
    "\n",
    "#id 뺀거.\n",
    "df.to_csv(\"wdbc2.csv\", index = False)\n",
    "\n",
    "df.iloc[:,:10].to_csv(\"wdbc_mean.csv\",index = False)\n",
    "\n",
    "i_df = df.iloc[:,0]\n",
    "ii_df = df.iloc[:,11:20]\n",
    "\n",
    "df2 = pd.concat([i_df,ii_df],axis=1)\n",
    "df2.to_csv('wdbc_se.csv',index=False)\n",
    "\n",
    "ii_df = df.iloc[:,21:]\n",
    "\n",
    "df3 = pd.concat([i_df,ii_df],axis=1)\n",
    "df3.to_csv('wdbc_worst.csv',index=False)"
   ]
  }
 ],
 "metadata": {
  "kernelspec": {
   "display_name": "Python 3",
   "language": "python",
   "name": "python3"
  },
  "language_info": {
   "codemirror_mode": {
    "name": "ipython",
    "version": 2
   },
   "file_extension": ".py",
   "mimetype": "text/x-python",
   "name": "python",
   "nbconvert_exporter": "python",
   "pygments_lexer": "ipython2",
   "version": "2.7.6"
  },
  "pycharm": {
   "stem_cell": {
    "cell_type": "raw",
    "source": [],
    "metadata": {
     "collapsed": false
    }
   }
  }
 },
 "nbformat": 4,
 "nbformat_minor": 0
}